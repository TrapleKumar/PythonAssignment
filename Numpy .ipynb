{
 "cells": [
  {
   "cell_type": "code",
   "execution_count": 1,
   "metadata": {},
   "outputs": [],
   "source": [
    "import pandas as pd\n",
    "import matplotlib.pyplot as plt\n",
    "import numpy as np"
   ]
  },
  {
   "cell_type": "markdown",
   "metadata": {},
   "source": [
    "Vandermode Matrix"
   ]
  },
  {
   "cell_type": "code",
   "execution_count": 22,
   "metadata": {},
   "outputs": [],
   "source": [
    "def vande_mat(vector):\n",
    "    l = vector.shape[0]\n",
    "    mat = np.ones((l,l), dtype=int)\n",
    "    for i in range(l):\n",
    "        for j in range(l):\n",
    "            mat[i][j] = vector[i]**(l-j-1)\n",
    "    return mat"
   ]
  },
  {
   "cell_type": "code",
   "execution_count": 23,
   "metadata": {},
   "outputs": [
    {
     "data": {
      "text/plain": [
       "array([[ 1,  1,  1,  1],\n",
       "       [ 8,  4,  2,  1],\n",
       "       [27,  9,  3,  1],\n",
       "       [64, 16,  4,  1]])"
      ]
     },
     "execution_count": 23,
     "metadata": {},
     "output_type": "execute_result"
    }
   ],
   "source": [
    "input_vector = [1, 2, 3, 4]\n",
    "input_vector = np.array(input_vector)\n",
    "vande_mat(input_vector)"
   ]
  },
  {
   "cell_type": "markdown",
   "metadata": {},
   "source": [
    "Moving Average"
   ]
  },
  {
   "cell_type": "code",
   "execution_count": 34,
   "metadata": {},
   "outputs": [],
   "source": [
    "def movingAverage(lst, windowSize):\n",
    "    num_value = len(lst) - windowSize + 1\n",
    "    movAvg = []\n",
    "    for i in range(num_value):\n",
    "        summation = 0\n",
    "        for j in range(i, i+windowSize):\n",
    "            summation += lst[j]\n",
    "        avg = summation/windowSize\n",
    "        movAvg.append(avg)\n",
    "    return  movAvg, num_value"
   ]
  },
  {
   "cell_type": "code",
   "execution_count": 35,
   "metadata": {},
   "outputs": [
    {
     "data": {
      "text/plain": [
       "([5.0,\n",
       "  4.666666666666667,\n",
       "  5.666666666666667,\n",
       "  6.666666666666667,\n",
       "  9.666666666666666,\n",
       "  28.666666666666668,\n",
       "  49.333333333333336,\n",
       "  72.66666666666667,\n",
       "  84.0,\n",
       "  93.33333333333333,\n",
       "  116.33333333333333],\n",
       " 11)"
      ]
     },
     "execution_count": 35,
     "metadata": {},
     "output_type": "execute_result"
    }
   ],
   "source": [
    "lst = [3, 5, 7, 2, 8, 10, 11, 65, 72, 81, 99, 100, 150]\n",
    "movingAverage(lst, 3)"
   ]
  },
  {
   "cell_type": "code",
   "execution_count": null,
   "metadata": {},
   "outputs": [],
   "source": []
  }
 ],
 "metadata": {
  "kernelspec": {
   "display_name": "Python 3",
   "language": "python",
   "name": "python3"
  },
  "language_info": {
   "codemirror_mode": {
    "name": "ipython",
    "version": 3
   },
   "file_extension": ".py",
   "mimetype": "text/x-python",
   "name": "python",
   "nbconvert_exporter": "python",
   "pygments_lexer": "ipython3",
   "version": "3.8.5"
  }
 },
 "nbformat": 4,
 "nbformat_minor": 4
}
